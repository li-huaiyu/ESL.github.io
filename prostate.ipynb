{
 "cells": [
  {
   "cell_type": "code",
   "execution_count": 49,
   "id": "2e5614b4-8ecc-46ab-a3d2-88c0f0bf7b8d",
   "metadata": {},
   "outputs": [],
   "source": [
    "import pandas as pd\n",
    "import seaborn as sns\n",
    "import matplotlib.pyplot as plt\n",
    "import scipy.stats as st\n",
    "from sklearn.linear_model import LinearRegression\n",
    "from sklearn.preprocessing import StandardScaler\n",
    "import numpy as np\n",
    "np.warnings.filterwarnings('ignore')\n"
   ]
  },
  {
   "cell_type": "markdown",
   "id": "87aa3307-ac51-4f53-9e4d-2e8e9abd6ab9",
   "metadata": {},
   "source": [
    "Some resources: [Course](https://github.com/davidrosenberg/mlcourse) by David Rosenberg."
   ]
  },
  {
   "cell_type": "markdown",
   "id": "1db032aa-c05f-4af7-a3d2-553d300aea9f",
   "metadata": {},
   "source": [
    "### Example 3.2.1, Full Model"
   ]
  },
  {
   "cell_type": "markdown",
   "id": "54ef5ffa-326a-40bf-a3e8-005708911485",
   "metadata": {},
   "source": [
    "- Read data_ from \"prostate.txt\", mask rows according to column \"train\"."
   ]
  },
  {
   "cell_type": "code",
   "execution_count": 186,
   "id": "de460a24-0877-4902-88c2-74bc0e4988a5",
   "metadata": {},
   "outputs": [
    {
     "data": {
      "text/html": [
       "<div>\n",
       "<style scoped>\n",
       "    .dataframe tbody tr th:only-of-type {\n",
       "        vertical-align: middle;\n",
       "    }\n",
       "\n",
       "    .dataframe tbody tr th {\n",
       "        vertical-align: top;\n",
       "    }\n",
       "\n",
       "    .dataframe thead th {\n",
       "        text-align: right;\n",
       "    }\n",
       "</style>\n",
       "<table border=\"1\" class=\"dataframe\">\n",
       "  <thead>\n",
       "    <tr style=\"text-align: right;\">\n",
       "      <th></th>\n",
       "      <th>lcavol</th>\n",
       "      <th>lweight</th>\n",
       "      <th>age</th>\n",
       "      <th>lbph</th>\n",
       "      <th>svi</th>\n",
       "      <th>lcp</th>\n",
       "      <th>gleason</th>\n",
       "      <th>pgg45</th>\n",
       "    </tr>\n",
       "  </thead>\n",
       "  <tbody>\n",
       "    <tr>\n",
       "      <th>1</th>\n",
       "      <td>-0.580</td>\n",
       "      <td>2.769</td>\n",
       "      <td>50</td>\n",
       "      <td>-1.386</td>\n",
       "      <td>0</td>\n",
       "      <td>-1.386</td>\n",
       "      <td>6</td>\n",
       "      <td>0</td>\n",
       "    </tr>\n",
       "    <tr>\n",
       "      <th>2</th>\n",
       "      <td>-0.994</td>\n",
       "      <td>3.320</td>\n",
       "      <td>58</td>\n",
       "      <td>-1.386</td>\n",
       "      <td>0</td>\n",
       "      <td>-1.386</td>\n",
       "      <td>6</td>\n",
       "      <td>0</td>\n",
       "    </tr>\n",
       "    <tr>\n",
       "      <th>3</th>\n",
       "      <td>-0.511</td>\n",
       "      <td>2.691</td>\n",
       "      <td>74</td>\n",
       "      <td>-1.386</td>\n",
       "      <td>0</td>\n",
       "      <td>-1.386</td>\n",
       "      <td>7</td>\n",
       "      <td>20</td>\n",
       "    </tr>\n",
       "    <tr>\n",
       "      <th>4</th>\n",
       "      <td>-1.204</td>\n",
       "      <td>3.283</td>\n",
       "      <td>58</td>\n",
       "      <td>-1.386</td>\n",
       "      <td>0</td>\n",
       "      <td>-1.386</td>\n",
       "      <td>6</td>\n",
       "      <td>0</td>\n",
       "    </tr>\n",
       "    <tr>\n",
       "      <th>5</th>\n",
       "      <td>0.751</td>\n",
       "      <td>3.432</td>\n",
       "      <td>62</td>\n",
       "      <td>-1.386</td>\n",
       "      <td>0</td>\n",
       "      <td>-1.386</td>\n",
       "      <td>6</td>\n",
       "      <td>0</td>\n",
       "    </tr>\n",
       "  </tbody>\n",
       "</table>\n",
       "</div>"
      ],
      "text/plain": [
       "   lcavol  lweight  age   lbph  svi    lcp  gleason  pgg45\n",
       "1  -0.580    2.769   50 -1.386    0 -1.386        6      0\n",
       "2  -0.994    3.320   58 -1.386    0 -1.386        6      0\n",
       "3  -0.511    2.691   74 -1.386    0 -1.386        7     20\n",
       "4  -1.204    3.283   58 -1.386    0 -1.386        6      0\n",
       "5   0.751    3.432   62 -1.386    0 -1.386        6      0"
      ]
     },
     "execution_count": 186,
     "metadata": {},
     "output_type": "execute_result"
    }
   ],
   "source": [
    "data_ = pd.read_csv('prostate.txt', delimiter = '\\t', index_col = 0)\n",
    "train = data_.pop('train')\n",
    "y= data_.pop('lpsa')\n",
    "data_.head().round(decimals=3)"
   ]
  },
  {
   "cell_type": "markdown",
   "id": "a1629445-2c6b-4cb7-bb80-d52e3c6f5ccc",
   "metadata": {},
   "source": [
    "- Correlation of the training data."
   ]
  },
  {
   "cell_type": "code",
   "execution_count": 187,
   "id": "30901b55-1aae-4151-9ed4-d40674847394",
   "metadata": {},
   "outputs": [
    {
     "data": {
      "text/html": [
       "<div>\n",
       "<style scoped>\n",
       "    .dataframe tbody tr th:only-of-type {\n",
       "        vertical-align: middle;\n",
       "    }\n",
       "\n",
       "    .dataframe tbody tr th {\n",
       "        vertical-align: top;\n",
       "    }\n",
       "\n",
       "    .dataframe thead th {\n",
       "        text-align: right;\n",
       "    }\n",
       "</style>\n",
       "<table border=\"1\" class=\"dataframe\">\n",
       "  <thead>\n",
       "    <tr style=\"text-align: right;\">\n",
       "      <th></th>\n",
       "      <th>lcavol</th>\n",
       "      <th>lweight</th>\n",
       "      <th>age</th>\n",
       "      <th>lbph</th>\n",
       "      <th>svi</th>\n",
       "      <th>lcp</th>\n",
       "      <th>gleason</th>\n",
       "      <th>pgg45</th>\n",
       "    </tr>\n",
       "  </thead>\n",
       "  <tbody>\n",
       "    <tr>\n",
       "      <th>lcavol</th>\n",
       "      <td>1.000</td>\n",
       "      <td>0.300</td>\n",
       "      <td>0.286</td>\n",
       "      <td>0.063</td>\n",
       "      <td>0.593</td>\n",
       "      <td>0.692</td>\n",
       "      <td>0.426</td>\n",
       "      <td>0.483</td>\n",
       "    </tr>\n",
       "    <tr>\n",
       "      <th>lweight</th>\n",
       "      <td>0.300</td>\n",
       "      <td>1.000</td>\n",
       "      <td>0.317</td>\n",
       "      <td>0.437</td>\n",
       "      <td>0.181</td>\n",
       "      <td>0.157</td>\n",
       "      <td>0.024</td>\n",
       "      <td>0.074</td>\n",
       "    </tr>\n",
       "    <tr>\n",
       "      <th>age</th>\n",
       "      <td>0.286</td>\n",
       "      <td>0.317</td>\n",
       "      <td>1.000</td>\n",
       "      <td>0.287</td>\n",
       "      <td>0.129</td>\n",
       "      <td>0.173</td>\n",
       "      <td>0.366</td>\n",
       "      <td>0.276</td>\n",
       "    </tr>\n",
       "    <tr>\n",
       "      <th>lbph</th>\n",
       "      <td>0.063</td>\n",
       "      <td>0.437</td>\n",
       "      <td>0.287</td>\n",
       "      <td>1.000</td>\n",
       "      <td>-0.139</td>\n",
       "      <td>-0.089</td>\n",
       "      <td>0.033</td>\n",
       "      <td>-0.030</td>\n",
       "    </tr>\n",
       "    <tr>\n",
       "      <th>svi</th>\n",
       "      <td>0.593</td>\n",
       "      <td>0.181</td>\n",
       "      <td>0.129</td>\n",
       "      <td>-0.139</td>\n",
       "      <td>1.000</td>\n",
       "      <td>0.671</td>\n",
       "      <td>0.307</td>\n",
       "      <td>0.481</td>\n",
       "    </tr>\n",
       "    <tr>\n",
       "      <th>lcp</th>\n",
       "      <td>0.692</td>\n",
       "      <td>0.157</td>\n",
       "      <td>0.173</td>\n",
       "      <td>-0.089</td>\n",
       "      <td>0.671</td>\n",
       "      <td>1.000</td>\n",
       "      <td>0.476</td>\n",
       "      <td>0.663</td>\n",
       "    </tr>\n",
       "    <tr>\n",
       "      <th>gleason</th>\n",
       "      <td>0.426</td>\n",
       "      <td>0.024</td>\n",
       "      <td>0.366</td>\n",
       "      <td>0.033</td>\n",
       "      <td>0.307</td>\n",
       "      <td>0.476</td>\n",
       "      <td>1.000</td>\n",
       "      <td>0.757</td>\n",
       "    </tr>\n",
       "    <tr>\n",
       "      <th>pgg45</th>\n",
       "      <td>0.483</td>\n",
       "      <td>0.074</td>\n",
       "      <td>0.276</td>\n",
       "      <td>-0.030</td>\n",
       "      <td>0.481</td>\n",
       "      <td>0.663</td>\n",
       "      <td>0.757</td>\n",
       "      <td>1.000</td>\n",
       "    </tr>\n",
       "  </tbody>\n",
       "</table>\n",
       "</div>"
      ],
      "text/plain": [
       "         lcavol  lweight    age   lbph    svi    lcp  gleason  pgg45\n",
       "lcavol    1.000    0.300  0.286  0.063  0.593  0.692    0.426  0.483\n",
       "lweight   0.300    1.000  0.317  0.437  0.181  0.157    0.024  0.074\n",
       "age       0.286    0.317  1.000  0.287  0.129  0.173    0.366  0.276\n",
       "lbph      0.063    0.437  0.287  1.000 -0.139 -0.089    0.033 -0.030\n",
       "svi       0.593    0.181  0.129 -0.139  1.000  0.671    0.307  0.481\n",
       "lcp       0.692    0.157  0.173 -0.089  0.671  1.000    0.476  0.663\n",
       "gleason   0.426    0.024  0.366  0.033  0.307  0.476    1.000  0.757\n",
       "pgg45     0.483    0.074  0.276 -0.030  0.481  0.663    0.757  1.000"
      ]
     },
     "execution_count": 187,
     "metadata": {},
     "output_type": "execute_result"
    }
   ],
   "source": [
    "data_[train=='T'].corr().round(decimals=3)"
   ]
  },
  {
   "cell_type": "markdown",
   "id": "9197a986-9f78-4694-8512-817475a8f94a",
   "metadata": {},
   "source": [
    "Pairplot"
   ]
  },
  {
   "cell_type": "code",
   "execution_count": 188,
   "id": "99a9f987-a0ae-4e2e-855a-7f178c004710",
   "metadata": {},
   "outputs": [],
   "source": [
    "# sns.pairplot(data_, plot_kws=dict(marker=\"s\", size=1), diag_kws=dict(fill=True))"
   ]
  },
  {
   "cell_type": "markdown",
   "id": "af4b7a0a-603a-42e5-b609-13ad07650c62",
   "metadata": {},
   "source": [
    "Standardize each column of \"data_\" by st.zscore. Given an array of $(a_i)_{i=0}^{n-1}$, the z-score of $a_i$ is given by\n",
    "$$\n",
    "z_i = \\frac{a_i - \\bar a}{\\mathrm{ssd}}\n",
    "$$\n",
    "The StandardScaler and st.zscore (by default) set ddof to 0, which according to sk documents does not affect model performance."
   ]
  },
  {
   "cell_type": "code",
   "execution_count": 191,
   "id": "93c2109f-043a-45be-ba22-fb84c3392a89",
   "metadata": {},
   "outputs": [],
   "source": [
    "scaler = StandardScaler()\n",
    "columns, index = data_.columns, data_.index # after scaling the features and indices are lost\n",
    "data_ = pd.DataFrame(scaler.fit_transform(data_.values), columns = columns, index = index);\n",
    "# the three lines above are equivalent to ddof = 0 case below. \n",
    "# data_=data_.apply( lambda x: st.zscore(x, ddof=1), axis = 0)"
   ]
  },
  {
   "cell_type": "code",
   "execution_count": 192,
   "id": "02004eaf-cf8e-46ca-a303-c886e86832dc",
   "metadata": {},
   "outputs": [
    {
     "name": "stdout",
     "output_type": "stream",
     "text": [
      "[[ 1.     0.281  0.225  0.027  0.539  0.675  0.432  0.434]\n",
      " [ 0.281  1.     0.348  0.442  0.155  0.165  0.057  0.107]\n",
      " [ 0.225  0.348  1.     0.35   0.118  0.128  0.269  0.276]\n",
      " [ 0.027  0.442  0.35   1.    -0.086 -0.007  0.078  0.078]\n",
      " [ 0.539  0.155  0.118 -0.086  1.     0.673  0.32   0.458]\n",
      " [ 0.675  0.165  0.128 -0.007  0.673  1.     0.515  0.632]\n",
      " [ 0.432  0.057  0.269  0.078  0.32   0.515  1.     0.752]\n",
      " [ 0.434  0.107  0.276  0.078  0.458  0.632  0.752  1.   ]]\n",
      "[[ 1.01   0.283  0.227  0.028  0.544  0.682  0.437  0.438]\n",
      " [ 0.283  1.01   0.352  0.447  0.157  0.166  0.057  0.108]\n",
      " [ 0.227  0.352  1.01   0.354  0.119  0.129  0.272  0.279]\n",
      " [ 0.028  0.447  0.354  1.01  -0.087 -0.007  0.079  0.079]\n",
      " [ 0.544  0.157  0.119 -0.087  1.01   0.68   0.324  0.462]\n",
      " [ 0.682  0.166  0.129 -0.007  0.68   1.01   0.52   0.638]\n",
      " [ 0.437  0.057  0.272  0.079  0.324  0.52   1.01   0.76 ]\n",
      " [ 0.438  0.108  0.279  0.079  0.462  0.638  0.76   1.01 ]]\n"
     ]
    }
   ],
   "source": [
    "np.set_printoptions(precision=3, suppress=True)\n",
    "print(np.corrcoef(data_, rowvar = False))\n",
    "print(np.cov(data_, rowvar = False))\n",
    "# rowvar = False since the random variable samples are stored in columns"
   ]
  },
  {
   "cell_type": "markdown",
   "id": "d8f05388-954c-4046-baa3-0fb7736c57fc",
   "metadata": {},
   "source": [
    "Train-test splitting and train the model."
   ]
  },
  {
   "cell_type": "code",
   "execution_count": 193,
   "id": "de692475-35a4-4f72-a908-a6f6526d4c3f",
   "metadata": {},
   "outputs": [],
   "source": [
    "X_train, y_train, X_test, y_test = data_[train=='T'], y[train=='T'], data_[train=='F'], y[train=='F']\n",
    "lr = LinearRegression()\n",
    "lr.fit(X_train,y_train);"
   ]
  },
  {
   "cell_type": "markdown",
   "id": "d2ed2678-faeb-4ed2-a940-b1ae454d43bc",
   "metadata": {},
   "source": [
    "The intercept and coefficient betas `betas` are just the (Moore-Penrose) pseudoinverse of the feature/predictor matrix $\\mathbf X$, if it has rank $p+1$, acting on the target matrix :\n",
    "$$\n",
    "\\hat \\beta = \\big( \\mathbf X^\\mathsf T \\mathbf X \\big)^{-1} \\mathbf X^\\mathsf T \\mathbf y\n",
    "$$"
   ]
  },
  {
   "cell_type": "markdown",
   "id": "a1a4648e-cf23-499f-83e2-3126b8386740",
   "metadata": {},
   "source": [
    "Now calculate the standard deviations of $\\hat \\beta$. Under the assumption that error terms are normal, i.d. and uncorrelated, \n",
    "$$\n",
    "\\hat \\beta \\sim \\mathcal N \\Big( \\beta, \\big(\\mathbf X^\\mathsf T \\mathbf X \\big)^{-1} \\sigma^2 \\Big)\n",
    "$$\n",
    "the variance is estimated as\n",
    "$$\n",
    "\\hat \\sigma^2 = \\frac{1}{N-p-1} \\big| y - \\hat y \\big|^2\n",
    "$$\n",
    "Let $v_{jj}$ denote the $i$-th diagonal entry of $\\big(\\mathbf X^\\mathsf T \\mathbf X \\big)^{-1}$, the z-score of $\\hat \\beta_j$ is thus:\n",
    "$$\n",
    "z_j = \\frac{\\hat \\beta_j} { \\sqrt { v_{jj} \\hat \\sigma^2 }}\n",
    "$$\n",
    "Testing the null hypothesis\n",
    "$$\n",
    "\\mathrm{H_0}:\\ \\beta = 0\n",
    "$$\n",
    "It seems the noise has average 0."
   ]
  },
  {
   "cell_type": "code",
   "execution_count": 194,
   "id": "49568546-f3e2-4535-8121-50bed46ac055",
   "metadata": {},
   "outputs": [
    {
     "name": "stdout",
     "output_type": "stream",
     "text": [
      "0.7122860775034967\n"
     ]
    },
    {
     "data": {
      "text/html": [
       "<div>\n",
       "<style scoped>\n",
       "    .dataframe tbody tr th:only-of-type {\n",
       "        vertical-align: middle;\n",
       "    }\n",
       "\n",
       "    .dataframe tbody tr th {\n",
       "        vertical-align: top;\n",
       "    }\n",
       "\n",
       "    .dataframe thead th {\n",
       "        text-align: right;\n",
       "    }\n",
       "</style>\n",
       "<table border=\"1\" class=\"dataframe\">\n",
       "  <thead>\n",
       "    <tr style=\"text-align: right;\">\n",
       "      <th></th>\n",
       "      <th>betas</th>\n",
       "      <th>stderr</th>\n",
       "      <th>z-scores</th>\n",
       "    </tr>\n",
       "  </thead>\n",
       "  <tbody>\n",
       "    <tr>\n",
       "      <th>(intercept)</th>\n",
       "      <td>2.465</td>\n",
       "      <td>0.089</td>\n",
       "      <td>27.598</td>\n",
       "    </tr>\n",
       "    <tr>\n",
       "      <th>lcavol</th>\n",
       "      <td>0.676</td>\n",
       "      <td>0.126</td>\n",
       "      <td>5.366</td>\n",
       "    </tr>\n",
       "    <tr>\n",
       "      <th>lweight</th>\n",
       "      <td>0.262</td>\n",
       "      <td>0.095</td>\n",
       "      <td>2.751</td>\n",
       "    </tr>\n",
       "    <tr>\n",
       "      <th>age</th>\n",
       "      <td>-0.141</td>\n",
       "      <td>0.101</td>\n",
       "      <td>-1.396</td>\n",
       "    </tr>\n",
       "    <tr>\n",
       "      <th>lbph</th>\n",
       "      <td>0.209</td>\n",
       "      <td>0.102</td>\n",
       "      <td>2.056</td>\n",
       "    </tr>\n",
       "    <tr>\n",
       "      <th>svi</th>\n",
       "      <td>0.304</td>\n",
       "      <td>0.123</td>\n",
       "      <td>2.469</td>\n",
       "    </tr>\n",
       "    <tr>\n",
       "      <th>lcp</th>\n",
       "      <td>-0.287</td>\n",
       "      <td>0.154</td>\n",
       "      <td>-1.867</td>\n",
       "    </tr>\n",
       "    <tr>\n",
       "      <th>gleason</th>\n",
       "      <td>-0.021</td>\n",
       "      <td>0.144</td>\n",
       "      <td>-0.147</td>\n",
       "    </tr>\n",
       "    <tr>\n",
       "      <th>pgg45</th>\n",
       "      <td>0.266</td>\n",
       "      <td>0.153</td>\n",
       "      <td>1.738</td>\n",
       "    </tr>\n",
       "  </tbody>\n",
       "</table>\n",
       "</div>"
      ],
      "text/plain": [
       "             betas  stderr  z-scores\n",
       "(intercept)  2.465   0.089    27.598\n",
       "lcavol       0.676   0.126     5.366\n",
       "lweight      0.262   0.095     2.751\n",
       "age         -0.141   0.101    -1.396\n",
       "lbph         0.209   0.102     2.056\n",
       "svi          0.304   0.123     2.469\n",
       "lcp         -0.287   0.154    -1.867\n",
       "gleason     -0.021   0.144    -0.147\n",
       "pgg45        0.266   0.153     1.738"
      ]
     },
     "execution_count": 194,
     "metadata": {},
     "output_type": "execute_result"
    }
   ],
   "source": [
    "N, p = X_train.shape\n",
    "noise =  y_train - lr.predict(X_train) \n",
    "sample_sd = st.tstd(noise, ddof=p+1)\n",
    "X = np.c_[ np.ones(N), X_train]\n",
    "V = np.linalg.inv(X.T@X)\n",
    "stderr = np.sqrt(np.diag(V))* sample_sd\n",
    "betas = np.array([lr.intercept_, *lr.coef_.tolist()])\n",
    "zs = betas/stderr\n",
    "full_model_summary = pd.DataFrame({\"betas\": betas, \"stderr\": stderr, \"z-scores\": zs},\\\n",
    "                                index = ['(intercept)', *columns]).round(decimals=3)\n",
    "print(st.tstd(noise, ddof=p+1))\n",
    "full_model_summary"
   ]
  },
  {
   "cell_type": "markdown",
   "id": "80f022fe-6ead-4511-b5f8-1983016e67e1",
   "metadata": {},
   "source": [
    "We remark that normalization only affects the z-score (t-score actually) of the intercept.\n",
    "Observe the z-scores of \"age\", \"lcp\", \"gleason\" and \"pgg45\" have z-scores less than two. We test the hypothesis that $Y$ does not depend on them. The F-distribution is satisfied by the ratio of two $\\chi^2$-rvs, each divided by their dfs. Therefore under the assumption that $\\epsilon_j$'s have the same variance and are normal:\n",
    "$$\n",
    "F = \\frac{ \\big( \\mathrm{RSS}_0 - \\mathrm{RSS}_1 \\big) / (p_1 - p_0) } {\\mathrm{RSS}_1 / (N-p_1-1)}\n",
    "$$\n",
    "First choose the reduced set of features according to H0: the coefficients of the aforementioned features are zero."
   ]
  },
  {
   "cell_type": "code",
   "execution_count": 169,
   "id": "854d8f3c-3edc-429d-8f5e-2ff4e718c7e4",
   "metadata": {},
   "outputs": [],
   "source": [
    "mask = np.abs(full_model_summary['z-scores']) > 2\n",
    "X0_train = X_train.loc[:, mask]\n",
    "p0 = X0_train.shape[1]"
   ]
  },
  {
   "cell_type": "markdown",
   "id": "48d70817-fb0f-411e-821d-2b8a4d598cb5",
   "metadata": {},
   "source": [
    "Fit a new linear regression model."
   ]
  },
  {
   "cell_type": "code",
   "execution_count": 170,
   "id": "1597eeb6-785c-40eb-a360-9c91c065aade",
   "metadata": {},
   "outputs": [],
   "source": [
    "lr0 = LinearRegression()\n",
    "lr0.fit(X0_train, y_train)\n",
    "noise0 = y_train- lr0.predict(X0_train)"
   ]
  },
  {
   "cell_type": "markdown",
   "id": "052073c5-d42c-4699-9002-da0861593087",
   "metadata": {},
   "source": [
    "Calculate the RSS's and the F-score. H0 cannot be rejected."
   ]
  },
  {
   "cell_type": "code",
   "execution_count": 171,
   "id": "27edae04-3b32-43fc-8b0d-0aee2792ac99",
   "metadata": {},
   "outputs": [
    {
     "name": "stdout",
     "output_type": "stream",
     "text": [
      "Pr(F(4, 58) > 1.67) = 0.17\n"
     ]
    }
   ],
   "source": [
    "rss0, rss1 = sum(noise0**2), sum(noise**2)\n",
    "F_score = ( (rss0 - rss1) / (p-p0) ) / (rss1/(N-p-1))\n",
    "prob = 1 - st.f.cdf(F_score, dfn = p-p0, dfd = N-p-1)\n",
    "print (f'Pr(F({p-p0}, {N-p-1}) > {F_score:.2f}) = {prob:.2f}')"
   ]
  },
  {
   "cell_type": "markdown",
   "id": "4a2224a9-a961-4e0c-aca1-852ca19f52a9",
   "metadata": {},
   "source": [
    "Assess the full model by comparing test-MSE:\n",
    "$$\n",
    "\\mathrm{MSE_{test}} = \\frac{1}{N_\\mathrm{test}} \\sum_{j=1}^{N_\\mathrm{test}} \\big( y_{i, \\mathrm{test}} - \\hat y_{i, \\mathrm{test}} \\big)^2 = \\frac{1}{N_\\mathrm{test}} \\sum \\mathrm{error_{j,test}}^2\n",
    "$$"
   ]
  },
  {
   "cell_type": "markdown",
   "id": "df12e48f-69dc-4b9d-89ab-e434442f22c8",
   "metadata": {},
   "source": [
    "to the base error rate. The standard error of the test MSE is estimated by\n",
    "$$\n",
    "\\mathrm{se}\\mathrm{MSE_{test}}\n",
    "=\\sqrt{ \\frac{1}{N_\\mathrm{test}}} \\mathrm{sd} \\big(\\mathrm{error_{i,test}}^2\\big)\n",
    "$$\n",
    "One needs to be careful to distinguish standard deviation of a sample, and the standard error of estimation of the mean from that sample."
   ]
  },
  {
   "cell_type": "code",
   "execution_count": 172,
   "id": "a4ab773c-12cc-494e-bd30-9d950236d33b",
   "metadata": {},
   "outputs": [
    {
     "name": "stdout",
     "output_type": "stream",
     "text": [
      "Expected Squared Prediction Error = 0.181, base MSE = 1.050, se(MSE) = 0.181\n"
     ]
    }
   ],
   "source": [
    "from sklearn.metrics import mean_squared_error\n",
    "espe = mean_squared_error(y_test, lr.predict(X_test))\n",
    "prediction_error = y_test - lr.predict(X_test)\n",
    "base_mse = mean_squared_error(y_test, y_test.mean()*np.ones(y_test.shape))\n",
    "se_mse =  np.sqrt( st.tstd(prediction_error**2) / y_test.shape[0] )\n",
    "print(f\"Expected Squared Prediction Error = {se_mse:.3f}, base MSE = {base_mse:.3f}, se(MSE) = {se_mse:.3f}\")"
   ]
  },
  {
   "cell_type": "markdown",
   "id": "4fd48ddd-2386-40d9-b8da-710ea0007f12",
   "metadata": {},
   "source": [
    "It does seem the 0.179 standard error is obtained setting ddof = 0 in tstd."
   ]
  },
  {
   "cell_type": "markdown",
   "id": "2f03882d-875e-42e4-9909-82b86f304994",
   "metadata": {},
   "source": [
    "### Figures 3.7 (ridge) and 3.8 (ridge coeffs)"
   ]
  },
  {
   "cell_type": "markdown",
   "id": "d26a2a1a-2667-4328-82c3-867f1daf6bb4",
   "metadata": {},
   "source": [
    "- Next we replicate the ridge regression `Ridge()` estimated EPE plot from Figure 3.7, and the profiles of the ridge coefficients Figure 3.8. "
   ]
  },
  {
   "cell_type": "markdown",
   "id": "9ae336ce-b0d4-4f9d-8063-95171ccd5ca7",
   "metadata": {},
   "source": [
    "- The minimization problem of the functional:\n",
    "$$\n",
    "\\sum_{i=1}^N \\Big( y_i - \\beta_0 - \\sum_{j=1}^p x_{ij} \\beta_j \\Big) ^2 + \\lambda\\sum_{j=1}^p \\beta_j^2\n",
    "$$\n",
    "one should first center and standardize $\\mathbf X$."
   ]
  },
  {
   "cell_type": "markdown",
   "id": "03279f4b-e4df-4f84-9b33-c346e19e6754",
   "metadata": {},
   "source": [
    "- The effective degree of freedom (EDOF) of a ridge regression model is:\n",
    "$$\n",
    "\\mathrm{EDOF} = \\mathrm{tr} \\Big[ \\mathbf X \\big( \\mathbf X^\\mathsf T \\mathbf X + \\lambda I_p \\big)^{-1} \\mathbf X^\\mathsf T\\Big] = \\sum_{j=1}^p \\frac{d_j^2}{d_j^2+\\lambda}\n",
    "$$\n",
    "where $d_j$ is the $j$-th singular value of $\\mathbf X$:\n",
    "$$\n",
    "\\mathbf X^{N\\times p} = \\mathbf U^{N\\times p} D^{p\\times p} \\big(V^{p\\times p} \\big)^\\mathsf T\n",
    "$$"
   ]
  },
  {
   "cell_type": "markdown",
   "id": "ee918206-2c59-45b9-bde4-4412c343e037",
   "metadata": {},
   "source": [
    "- If any of the diagonal elements of $D$, i.e. $d_1,\\cdots, d_p$ is zero, then $\\mathrm{rank} \\mathbf X < p$ and we have collinearity among the columns of $\\mathbf X$. $V$ is often full-rank without strict collinearity. "
   ]
  },
  {
   "cell_type": "markdown",
   "id": "c6e2a284-1b1a-49fc-b275-f96e1c815d25",
   "metadata": {},
   "source": [
    "- Moreover, since we have centered $\\mathbf X$, the least square estimator is given by\n",
    "$$\n",
    "\\mathbf X^\\mathsf T \\hat \\beta_\\mathrm{least\\ sq} = \\mathbf X \\big( \\mathbf X^\\mathsf T \\mathbf X \\big)^{-1} \\mathbf X^\\mathsf T\n",
    "\\mathbf y = \\mathbf U D V^\\mathsf T \\big(V  D \\mathbf U^\\mathsf T \\mathbf U D V^\\mathsf T \\big)^{-1} V D \\mathbf U^\\mathsf T \\mathbf y = \n",
    "\\mathbf U \\mathbf U^\\mathsf T \\mathbf y\n",
    "$$\n",
    "this is because \n",
    "$$\n",
    "\\mathbf U = \\begin{bmatrix} \\mathbf u_1 & \\cdots & \\mathbf u_p \\end{bmatrix} \n",
    "$$\n",
    "whence $\\mathbf U^\\mathsf T \\mathbf U = I_p$."
   ]
  },
  {
   "cell_type": "code",
   "execution_count": 173,
   "id": "e80b9d5c-d443-4a14-9f67-98f99bde82d3",
   "metadata": {},
   "outputs": [],
   "source": [
    "from numpy.linalg import svd\n",
    "U, D, Vt = svd(X_train, full_matrices=True, compute_uv=True, hermitian=False)\n",
    "# np.set_printoptions(precision=10, suppress=True)"
   ]
  },
  {
   "cell_type": "markdown",
   "id": "11fd8a60-e446-4e41-97ac-de7ec62eac67",
   "metadata": {},
   "source": [
    "- Use Newton-Raphson `scipy.optimize.newton`to calculate the penalty multipliers `alpha` = $\\lambda$:\n",
    "$$\n",
    "f \\big( \\mathrm{EDOF}, \\alpha \\big) :=  \\sum_{j=1}^p \\frac{d_j^2}{d_j^2+\\lambda} - \\mathrm{EDOF} = 0\n",
    "$$"
   ]
  },
  {
   "cell_type": "code",
   "execution_count": 174,
   "id": "5af7f7c7-a9a5-43f3-95de-296dbdcdf470",
   "metadata": {},
   "outputs": [],
   "source": [
    "from scipy.optimize import newton\n",
    "f = lambda edof: lambda alpha: np.sum(D**2/(D**2 + alpha)) - edof\n",
    "alphas = [ newton(f(i), 0.) for i in range(1, 9)]"
   ]
  },
  {
   "cell_type": "markdown",
   "id": "df2a2e08-7f0c-408e-946e-72e7f4373209",
   "metadata": {},
   "source": [
    "- Replicate of Figure 3.8. The limit EDOF --> 0 corresponds to regressing on mean(y)."
   ]
  },
  {
   "cell_type": "code",
   "execution_count": 175,
   "id": "dada2ec7-ca90-4f59-9a61-d0ab58cb0754",
   "metadata": {},
   "outputs": [
    {
     "name": "stdout",
     "output_type": "stream",
     "text": [
      "(100, 8)\n",
      "True\n"
     ]
    },
    {
     "data": {
      "image/png": "[encoded data removed]",
      "text/plain": [
       "<Figure size 432x576 with 1 Axes>"
      ]
     },
     "metadata": {
      "needs_background": "light"
     },
     "output_type": "display_data"
    }
   ],
   "source": [
    "from sklearn.linear_model import Ridge\n",
    "edofs = np.linspace(1e-5, 8, 100,endpoint=True)\n",
    "alphas = [ newton(f(i), 0.) for i in edofs]\n",
    "betas_ridge = np.vstack([ Ridge(alpha=a).fit(X_train, y_train).coef_   #this returns for each a beta_1(a) to beta_8(a)\n",
    "                   for a in alphas])\n",
    "print(betas_ridge.shape)\n",
    "fig, ax =  plt.subplots(figsize = (6,8))\n",
    "ax.plot(edofs,betas_ridge, label = columns)\n",
    "ax.set_xlabel(\"effective dofs\")\n",
    "ax.set_ylabel(\"ridge betas\")\n",
    "ax.legend(loc = \"upper left\")\n",
    "ax.set_title(\"Replicate of Figure 3.8\")\n",
    "print(np.allclose(betas_ridge[-1], lr.coef_))\n",
    "plt.show()"
   ]
  },
  {
   "cell_type": "markdown",
   "id": "136d9d43-81d6-4f5b-9491-884929e1141a",
   "metadata": {},
   "source": [
    "- Use `GridSearchCV` and `KFold` from sklearn.model_selection to perform grid search cross-validation of different EDOFs, get mean squared error (MSE) to estimate expected prediction error (EPE) and its standard error. \n",
    "- Larger K means lower bias of the generalization error estimate, but higher variance since the training sets overlaps, but the validation/test sets do not overlap much in general. See [this](https://sebastianraschka.com/faq/docs/number-of-kfolds.html) post."
   ]
  },
  {
   "cell_type": "code",
   "execution_count": 232,
   "id": "7930048e-dae9-414c-b711-1bee8042895a",
   "metadata": {},
   "outputs": [
    {
     "data": {
      "image/png": "[encoded data removed]",
      "text/plain": [
       "<Figure size 576x432 with 1 Axes>"
      ]
     },
     "metadata": {
      "needs_background": "light"
     },
     "output_type": "display_data"
    },
    {
     "name": "stdout",
     "output_type": "stream",
     "text": [
      "estimated EPEs =  [1.472 1.058 0.842 0.731 0.67  0.633 0.606 0.585 0.574]\n",
      "se of estimated EPEs =  [0.275 0.2   0.154 0.125 0.108 0.099 0.094 0.093 0.094]\n"
     ]
    }
   ],
   "source": [
    "from sklearn.model_selection import GridSearchCV, KFold\n",
    "np.set_printoptions(precision=3, suppress=False)\n",
    "\n",
    "K, random_state = 10, 69438\n",
    "cv = KFold(K, shuffle= True, random_state = random_state )\n",
    "# Use the alphas (penalty multipliers) calculated above)\n",
    "alphas = [ newton(f(i), 0.) for i in range(1,9)]\n",
    "param_grid = {'alpha': alphas}\n",
    "\n",
    "\n",
    "# break lines when parentheses left open, \"\\\" no longer recommended\n",
    "gs = (\n",
    "    GridSearchCV(Ridge(), param_grid=param_grid,\n",
    "                  cv = cv ,scoring='neg_mean_squared_error') \n",
    "                # if cv being set to be an integer is equiv to shuffle = False\n",
    "); gs.fit(X_train, y_train); \n",
    "res = gs.cv_results_\n",
    "\n",
    "\n",
    "from sklearn.dummy import DummyRegressor\n",
    "# baseline is the regression on mean(y_train)\n",
    "gs_baseline = (\n",
    "    GridSearchCV(DummyRegressor(), param_grid={},\n",
    "                  cv = cv ,scoring='neg_mean_squared_error')\n",
    "); gs_baseline.fit(X_train, y_train); \n",
    "res_baseline = gs_baseline.cv_results_\n",
    "\n",
    "# estimated expected prediction errors, and their standard deviations\n",
    "est_EPE = - np.hstack( [ res_baseline['mean_test_score'], res['mean_test_score']])\n",
    "est_EPE_se = np.hstack ( [ res_baseline['std_test_score'], res['std_test_score']])/np.sqrt(K-1)\n",
    "\n",
    "# Plot the values against their indices with error bars\n",
    "fig, ax = plt.subplots(figsize = (8,6))\n",
    "ax.errorbar(np.arange(9), est_EPE, yerr=est_EPE_se, fmt='o', markersize=4, capsize=5)\n",
    "ax.plot(np.arange(9), est_EPE)\n",
    "ax.set_title(\"Replicate of Figure 3.7 ridge\")\n",
    "plt.show()\n",
    "print(\"estimated EPEs = \", est_EPE)\n",
    "print(\"se of estimated EPEs = \", est_EPE_se)"
   ]
  },
  {
   "cell_type": "markdown",
   "id": "fc89937c-a254-4953-984b-43288abcca97",
   "metadata": {},
   "source": [
    "### Figures 3.7 (lasso) and 3.10 (ridge coeffs)"
   ]
  },
  {
   "cell_type": "markdown",
   "id": "a3abadb1-6ac0-4d0e-a866-bd0ca0687dd8",
   "metadata": {},
   "source": [
    "- Next we replicate the ridge regression `Lasso()` estimated EPE plot from Figure 3.7, and the profiles of the ridge coefficients Figure 3.10. "
   ]
  },
  {
   "cell_type": "markdown",
   "id": "254e99d9-9f0e-4db1-a1e4-887a04e38fcb",
   "metadata": {},
   "source": [
    "- The minimization problem of the functional:\n",
    "$$\n",
    "\\frac12 \\sum_{i=1}^N \\Big( y_i - \\beta_0 - \\sum_{j=1}^p x_{ij} \\beta_j \\Big) ^2 + \\lambda\\sum_{j=1}^p \\big| \\beta_j \\big|\n",
    "$$\n",
    "one should first center and standardize $\\mathbf X$."
   ]
  },
  {
   "cell_type": "markdown",
   "id": "977be326-5992-4137-a171-75109aac67db",
   "metadata": {},
   "source": [
    "- Penalty factor $\\alpha$ `alpha` ( $\\lambda$ in ESL ) is one by default in `Lasso`. Here as it becomes larger than approx. 0.94, all `coef_`s are shrunk to zero."
   ]
  },
  {
   "cell_type": "markdown",
   "id": "178c81d2-f2e9-4cba-9bb3-9e157290d36b",
   "metadata": {},
   "source": [
    "- `s` defined below is the standardizd parameter, given by\n",
    "$$\n",
    "s = \\frac t { \\sum_{j = 1}^p \\big| \\hat \\beta_j \\big|}\n",
    "$$\n",
    "where \n",
    "$$\n",
    "t = \\sum_{j = 1}^p \\big| \\hat \\beta_j^\\mathrm{lasso}(\\alpha) \\big|\n",
    "$$"
   ]
  },
  {
   "cell_type": "code",
   "execution_count": 234,
   "id": "b9ac769e-721f-4c66-bddd-3eae3fa9f832",
   "metadata": {},
   "outputs": [
    {
     "data": {
      "image/png": "[encoded data removed]",
      "text/plain": [
       "<Figure size 432x576 with 1 Axes>"
      ]
     },
     "metadata": {
      "needs_background": "light"
     },
     "output_type": "display_data"
    }
   ],
   "source": [
    "from sklearn.linear_model import Lasso\n",
    "alpha = np.linspace(0., 0.94, 1001, endpoint=True) # set penalty multipliers\n",
    "beta_ols = LinearRegression().fit(X_train, y_train).coef_ #betas of the alpha=0 case\n",
    "betas_lasso = np.vstack((beta_ols,\n",
    "    [ Lasso(alpha=a).fit(X_train, y_train).coef_   #this returns for each a beta_1(a) to beta_8(a)\n",
    "                   for a in alpha[:-1]]\n",
    "                        )) # concatenate beta_ols with the betas of lasso for alpha != 0\n",
    "s = np.sum(np.abs(betas_lasso)/\n",
    "           np.sum(np.abs(lr.coef_)),\n",
    "           axis=1)\n",
    "# standardized parameter \n",
    "# plot the lasso coefficient curves against the standardized parameter\n",
    "fig, ax =  plt.subplots(figsize = (6,8));ax.plot(s , betas_lasso, label = columns)\n",
    "ax.set_xlabel(\"standardized tuning parameter s\");ax.set_ylabel(\"lasso betas\");ax.legend(loc = \"upper left\");ax.set_title(\"Replicate of Figure 3.10\")\n",
    "plt.show()"
   ]
  },
  {
   "cell_type": "markdown",
   "id": "b0e95035-d7c3-4f11-a8f1-2aeacd552b1e",
   "metadata": {},
   "source": [
    "- *Reducing number of active predictors ~ reducing the number of dof ~ reducing the risk hence the expected prediction error.*"
   ]
  },
  {
   "cell_type": "markdown",
   "id": "0ccdcbde-7618-4c0b-92a1-c58936d8d428",
   "metadata": {},
   "source": [
    "- Randomized PCA see [this](https://gregorygundersen.com/blog/2019/01/17/randomized-svd/) page.\n",
    "Restrict to the first $M\\leq p$ principal components, and use them to perform OLS."
   ]
  },
  {
   "cell_type": "markdown",
   "id": "40c4c153-7ac0-4c3f-8b3e-5322916767b1",
   "metadata": {},
   "source": [
    "- For standardized $\\mathbf X$ but not $\\mathbf y$, \n",
    "$$\n",
    "\\hat{\\mathbf y}^\\mathrm{pcr}_{(M)} = \\bar y \\mathbf E_N + \\sum_{m=1}^M \\hat \\theta_m \\mathbf z_m = \\bar y \\mathbf E_N + \\mathbf X \\sum_{m=1}^M \\hat \\theta_m  v_m\n",
    "$$\n",
    "where $\\mathbf z_m = \\mathbf X v_m$ are the scores."
   ]
  },
  {
   "cell_type": "code",
   "execution_count": 236,
   "id": "43e462eb-af57-4a0c-b8ef-7c1819f5e08e",
   "metadata": {},
   "outputs": [
    {
     "data": {
      "image/png": "[encoded data removed]",
      "text/plain": [
       "<Figure size 576x432 with 1 Axes>"
      ]
     },
     "metadata": {
      "needs_background": "light"
     },
     "output_type": "display_data"
    },
    {
     "name": "stdout",
     "output_type": "stream",
     "text": [
      "estimated EPEs =  [1.472 0.83  0.752 0.733 0.705 0.72  0.741 0.659 0.574]\n",
      "se of estimated EPEs =  [0.275 0.161 0.157 0.125 0.128 0.12  0.101 0.115 0.094]\n"
     ]
    }
   ],
   "source": [
    "from sklearn.decomposition import PCA\n",
    "from sklearn.pipeline import make_pipeline\n",
    "from sklearn.dummy import DummyRegressor\n",
    "\n",
    "pipeline = make_pipeline(PCA(), LinearRegression())\n",
    "# sum( a[i] * lr.coef_[i] for i in range(7))\n",
    "\n",
    "y_train.mean()\n",
    "\n",
    "K = 10\n",
    "param_grid  = {'pca__n_components': [1, 2, 3, 4, 5, 6, 7,8]} #this makes the GridSearch refers to the 'pca' in the pipeline transformer\n",
    "cv = KFold(K, shuffle = True, random_state = random_state)\n",
    "gs = (\n",
    "    GridSearchCV(pipeline, param_grid=param_grid,\n",
    "                  cv = cv ,scoring='neg_mean_squared_error') \n",
    "                # if cv being set to be an integer is equiv to shuffle = False\n",
    "); gs.fit(X_train, y_train)\n",
    "res = gs.cv_results_\n",
    "\n",
    "# baseline is the regression on mean(y_train)\n",
    "gs_baseline = (\n",
    "    GridSearchCV(DummyRegressor(), param_grid={},\n",
    "                  cv = cv ,scoring='neg_mean_squared_error')\n",
    "); gs_baseline.fit(X_train, y_train); \n",
    "res_baseline = gs_baseline.cv_results_\n",
    "\n",
    "# estimated expected prediction errors, and their standard deviations\n",
    "est_EPE = - np.hstack( [ res_baseline['mean_test_score'], res['mean_test_score']])\n",
    "est_EPE_se = np.hstack ( [ res_baseline['std_test_score'], res['std_test_score']])/np.sqrt(K-1)\n",
    "\n",
    "# Plot the values against their indices with error bars\n",
    "fig, ax = plt.subplots(figsize = (8,6))\n",
    "ax.errorbar(np.arange(9), est_EPE, yerr=est_EPE_se, fmt='o', markersize=4, capsize=5)\n",
    "ax.plot(np.arange(9), est_EPE)\n",
    "ax.set_title(\"Replicate of Figure 3.7 PCR\")\n",
    "plt.show()\n",
    "print(\"estimated EPEs = \", est_EPE)\n",
    "print(\"se of estimated EPEs = \", est_EPE_se)"
   ]
  },
  {
   "cell_type": "code",
   "execution_count": 159,
   "id": "fdabf9ed-02b5-446b-80fb-a98bce1088dd",
   "metadata": {},
   "outputs": [
    {
     "name": "stdout",
     "output_type": "stream",
     "text": [
      "[ 0.  0.  0. -0.  0. -0. -0.]\n"
     ]
    },
    {
     "data": {
      "image/png": "[encoded data removed]",
      "text/plain": [
       "<Figure size 432x288 with 1 Axes>"
      ]
     },
     "metadata": {
      "needs_background": "light"
     },
     "output_type": "display_data"
    }
   ],
   "source": [
    "mean = np.array([1, 2])\n",
    "cov = np.array([[1, 0.5], [0.5, 2]])\n",
    "\n",
    "# Generate random samples\n",
    "X1 = np.random.multivariate_normal(mean, cov, 300)\n",
    "X1_transformed = PCA(n_components =2).fit_transform(X1)\n",
    "plt.scatter(X1[:,0],X1[:,1],marker='.',linewidth=0.3)\n",
    "plt.scatter(X1_transformed[:,0],X1_transformed[:,1], marker='.', linewidth = .3)\n",
    "print(np.mean(X_train, axis = 0))"
   ]
  },
  {
   "cell_type": "code",
   "execution_count": 997,
   "id": "1ad63f84-e453-4429-aa97-29a02a179f71",
   "metadata": {},
   "outputs": [],
   "source": [
    "np.array([np.random.normal(loc=0, scale=j,size=1) for j in 0.1*np.arange(20)]);"
   ]
  },
  {
   "cell_type": "markdown",
   "id": "f65e3384-b7b4-4452-979c-ef5232f82aa6",
   "metadata": {},
   "source": [
    "CV estimates the EPE, the EXPECTED predicted error over the space of training sets $\\mathcal T$."
   ]
  },
  {
   "cell_type": "code",
   "execution_count": 1078,
   "id": "fc6aac98-6d4d-4f19-815d-29693db257da",
   "metadata": {},
   "outputs": [
    {
     "name": "stdout",
     "output_type": "stream",
     "text": [
      "Fold 0:\n",
      "  Train: index=[ 4  5  6  7  8  9 10 11 12 13 14]\n",
      "  Test:  index=[0 1 2 3]\n",
      "Fold 1:\n",
      "  Train: index=[ 0  1  2  3  8  9 10 11 12 13 14]\n",
      "  Test:  index=[4 5 6 7]\n",
      "Fold 2:\n",
      "  Train: index=[ 0  1  2  3  4  5  6  7 12 13 14]\n",
      "  Test:  index=[ 8  9 10 11]\n",
      "Fold 3:\n",
      "  Train: index=[ 0  1  2  3  4  5  6  7  8  9 10 11]\n",
      "  Test:  index=[12 13 14]\n"
     ]
    }
   ],
   "source": [
    "X, y = np.arange(15), np.arange(15)\n",
    "kf = KFold(n_splits=4, shuffle=False, random_state = None)\n",
    "kf.get_n_splits(X)\n",
    "for i, (train_index, test_index) in enumerate(kf.split(X)):\n",
    "    print(f\"Fold {i}:\")\n",
    "    print(f\"  Train: index={train_index}\")\n",
    "    print(f\"  Test:  index={test_index}\")"
   ]
  },
  {
   "cell_type": "code",
   "execution_count": 231,
   "id": "c8798a08-b24e-48d4-9ae5-197a32932a97",
   "metadata": {},
   "outputs": [],
   "source": [
    "from sklearn.model_selection import GridSearchCV, KFold\n",
    "from sklearn.linear_model import Ridge, Lasso, LinearRegression\n",
    "from sklearn.decomposition import PCA\n",
    "from sklearn.pipeline import Pipeline\n",
    "from sklearn.cross_decomposition import PLSRegression\n",
    "from sklearn.dummy import DummyRegressor"
   ]
  },
  {
   "cell_type": "code",
   "execution_count": null,
   "id": "995ec024-4e54-417a-a7a8-3a11358c0d46",
   "metadata": {},
   "outputs": [],
   "source": []
  }
 ],
 "metadata": {
  "kernelspec": {
   "display_name": "Python 3 (ipykernel)",
   "language": "python",
   "name": "python3"
  },
  "language_info": {
   "codemirror_mode": {
    "name": "ipython",
    "version": 3
   },
   "file_extension": ".py",
   "mimetype": "text/x-python",
   "name": "python",
   "nbconvert_exporter": "python",
   "pygments_lexer": "ipython3",
   "version": "3.9.7"
  }
 },
 "nbformat": 4,
 "nbformat_minor": 5
}
